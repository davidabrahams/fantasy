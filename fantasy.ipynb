{
 "cells": [
  {
   "cell_type": "code",
   "execution_count": 1,
   "metadata": {
    "collapsed": false
   },
   "outputs": [],
   "source": [
    "import pandas as pd\n",
    "import os\n",
    "import sys\n",
    "from math import floor\n",
    "import pylev\n",
    "import re\n",
    "import numpy as np"
   ]
  },
  {
   "cell_type": "code",
   "execution_count": 2,
   "metadata": {
    "collapsed": true
   },
   "outputs": [],
   "source": [
    "curr_dir = os.path.abspath(os.path.dirname(\"__file__\"))"
   ]
  },
  {
   "cell_type": "code",
   "execution_count": 3,
   "metadata": {
    "collapsed": false
   },
   "outputs": [],
   "source": [
    "def get_fp_val(row, values):\n",
    "#     print(row)\n",
    "#     return 0\n",
    "    if (row.Fantasypros_rank >= len(values)):\n",
    "        return values.iloc[-1]\n",
    "    rd = int(floor(row.Fantasypros_rank))\n",
    "    diff = row.Fantasypros_rank - rd\n",
    "    top_val = values.iloc[rd - 1]\n",
    "    bot_val = values.iloc[rd]\n",
    "    return (1 - diff) * top_val + diff * bot_val\n",
    "\n",
    "def get_bonuses(row, bonuses):\n",
    "    pos = row['Position'].lower()\n",
    "    rank = row['Position_rank']\n",
    "    bonus = bonuses[pos + '12'].iloc[0] - bonuses[pos + '10'].iloc[0]\n",
    "    return bonus\n",
    "\n",
    "def get_pick_val_bs(row, df):\n",
    "    if np.isnan(row.my_pick):\n",
    "        return row.my_pick\n",
    "    return df.Value.loc[row.name] - df.Value.iloc[int(min(row.my_pick - 1, len(df) - 1))]\n",
    "\n",
    "def get_pick_val_fp(row, df):\n",
    "    if np.isnan(row.my_pick):\n",
    "        return row.my_pick\n",
    "    return df.Value.iloc[row.Rank_fp - 1] - df.Value.iloc[int(min(row.my_pick - 1, len(df) - 1))]\n",
    "    \n",
    "def get_my_pick(e, buff=0):\n",
    "    my_picks = [9, 16]\n",
    "    for i in range(15):\n",
    "        my_picks.append(my_picks[i] + 24)\n",
    "    for i, m in enumerate(my_picks):\n",
    "        if m > e-buff:\n",
    "            return my_picks[max(i - 1, 0)]\n",
    "    return my_picks[-1]\n",
    "        \n",
    "def round_target(p):\n",
    "    if np.isnan(p):\n",
    "        return p\n",
    "    return int((p-1) / 12) + 1\n",
    "        \n",
    "def get_name(s):\n",
    "    i = s.index('.')\n",
    "    return s[i+2:]\n",
    "\n",
    "def espn_rank(name, espn):\n",
    "    names = espn.Name.tolist()\n",
    "    name_match = min(names, key=lambda x: pylev.levenshtein(x.lower(), name.lower()))\n",
    "    i = names.index(name_match)\n",
    "    return i + 1\n",
    "\n",
    "def get_pos_rank(pos):\n",
    "    d = {}\n",
    "    l = []\n",
    "    for p in pos:\n",
    "        if p not in d:\n",
    "            d[p] = 1\n",
    "        l.append(d[p])\n",
    "        d[p] += 1\n",
    "    return l"
   ]
  },
  {
   "cell_type": "code",
   "execution_count": 4,
   "metadata": {
    "collapsed": true
   },
   "outputs": [],
   "source": [
    "fp = pd.read_csv(os.path.join(curr_dir, \"FantasyPros_2016_Draft_Overall_Rankings.csv\"))"
   ]
  },
  {
   "cell_type": "code",
   "execution_count": 5,
   "metadata": {
    "collapsed": false
   },
   "outputs": [],
   "source": [
    "regex = re.compile('[^a-zA-Z]')\n",
    "#First parameter is the replacement, second parameter is your input string\n",
    "re.compile('[^a-zA-Z]').sub('', 'ab3d*E')\n",
    "fp['Position_alpha'] = fp['Position '].apply(lambda s: re.compile('[^a-zA-Z]').sub('', s))\n",
    "fp.to_csv('fantasypros.csv')"
   ]
  },
  {
   "cell_type": "code",
   "execution_count": 4,
   "metadata": {
    "collapsed": false
   },
   "outputs": [],
   "source": [
    "using_fp = ''\n",
    "df = pd.read_csv(os.path.join(curr_dir, \"fantasy_rankings.csv\"))\n",
    "espn = pd.read_csv(os.path.join(curr_dir, \"espn.csv\"))\n",
    "espn['Name'] = espn['RANK, PLAYER'].apply(get_name)\n",
    "df['espn_rank'] = df['Player' + using_fp].apply(lambda x: espn_rank(x, espn))\n",
    "df['my_pick'] = df.espn_rank.apply(get_my_pick)\n",
    "df['round_target'] = df['my_pick'].apply(round_target)\n",
    "df['pos_rank'] = get_pos_rank(df['Pos'])\n",
    "df['pos_rank_str'] = [p + str(r) for p, r in zip(df['Pos'], df.pos_rank)]\n",
    "# df['diff'] = df.index - df.espn_rank + 1\n",
    "df['pick_val_bs'] = df.apply(lambda x: get_pick_val_bs(x, df), axis=1)\n",
    "df['pick_val_fp'] = df.apply(lambda x: get_pick_val_fp(x, df), axis=1)\n",
    "df = pd.concat([df[df.Rank_fp <= 100], df[df.Rank_fp > 100].sort_values('Rank_fp')], ignore_index=True)\n",
    "df.index = df.index + 1"
   ]
  },
  {
   "cell_type": "code",
   "execution_count": 6,
   "metadata": {
    "collapsed": false
   },
   "outputs": [],
   "source": [
    "df[['Player', 'Pos', 'pos_rank_str', 'Rank_avg_fp', 'espn_rank']].to_csv('print.csv')\n",
    "# df"
   ]
  },
  {
   "cell_type": "code",
   "execution_count": 75,
   "metadata": {
    "collapsed": false,
    "scrolled": true
   },
   "outputs": [
    {
     "data": {
      "text/html": [
       "<div>\n",
       "<table border=\"1\" class=\"dataframe\">\n",
       "  <thead>\n",
       "    <tr style=\"text-align: right;\">\n",
       "      <th></th>\n",
       "      <th>Player</th>\n",
       "      <th>Pos</th>\n",
       "      <th>espn_rank</th>\n",
       "      <th>my_pick</th>\n",
       "      <th>round_target</th>\n",
       "    </tr>\n",
       "  </thead>\n",
       "  <tbody>\n",
       "    <tr>\n",
       "      <th>29</th>\n",
       "      <td>Cam Newton</td>\n",
       "      <td>QB</td>\n",
       "      <td>35</td>\n",
       "      <td>33</td>\n",
       "      <td>3</td>\n",
       "    </tr>\n",
       "    <tr>\n",
       "      <th>104</th>\n",
       "      <td>Tyrod Taylor</td>\n",
       "      <td>QB</td>\n",
       "      <td>131</td>\n",
       "      <td>129</td>\n",
       "      <td>11</td>\n",
       "    </tr>\n",
       "    <tr>\n",
       "      <th>106</th>\n",
       "      <td>Derek Carr</td>\n",
       "      <td>QB</td>\n",
       "      <td>134</td>\n",
       "      <td>129</td>\n",
       "      <td>11</td>\n",
       "    </tr>\n",
       "    <tr>\n",
       "      <th>111</th>\n",
       "      <td>Kirk Cousins</td>\n",
       "      <td>QB</td>\n",
       "      <td>133</td>\n",
       "      <td>129</td>\n",
       "      <td>11</td>\n",
       "    </tr>\n",
       "    <tr>\n",
       "      <th>115</th>\n",
       "      <td>Tony Romo</td>\n",
       "      <td>QB</td>\n",
       "      <td>132</td>\n",
       "      <td>129</td>\n",
       "      <td>11</td>\n",
       "    </tr>\n",
       "    <tr>\n",
       "      <th>41</th>\n",
       "      <td>Aaron Rodgers</td>\n",
       "      <td>QB</td>\n",
       "      <td>49</td>\n",
       "      <td>40</td>\n",
       "      <td>4</td>\n",
       "    </tr>\n",
       "    <tr>\n",
       "      <th>74</th>\n",
       "      <td>Drew Brees</td>\n",
       "      <td>QB</td>\n",
       "      <td>68</td>\n",
       "      <td>64</td>\n",
       "      <td>6</td>\n",
       "    </tr>\n",
       "    <tr>\n",
       "      <th>67</th>\n",
       "      <td>Andrew Luck</td>\n",
       "      <td>QB</td>\n",
       "      <td>61</td>\n",
       "      <td>57</td>\n",
       "      <td>5</td>\n",
       "    </tr>\n",
       "    <tr>\n",
       "      <th>47</th>\n",
       "      <td>Russell Wilson</td>\n",
       "      <td>QB</td>\n",
       "      <td>50</td>\n",
       "      <td>40</td>\n",
       "      <td>4</td>\n",
       "    </tr>\n",
       "    <tr>\n",
       "      <th>96</th>\n",
       "      <td>Eli Manning</td>\n",
       "      <td>QB</td>\n",
       "      <td>88</td>\n",
       "      <td>88</td>\n",
       "      <td>8</td>\n",
       "    </tr>\n",
       "    <tr>\n",
       "      <th>97</th>\n",
       "      <td>Philip Rivers</td>\n",
       "      <td>QB</td>\n",
       "      <td>90</td>\n",
       "      <td>88</td>\n",
       "      <td>8</td>\n",
       "    </tr>\n",
       "    <tr>\n",
       "      <th>99</th>\n",
       "      <td>Blake Bortles</td>\n",
       "      <td>QB</td>\n",
       "      <td>89</td>\n",
       "      <td>88</td>\n",
       "      <td>8</td>\n",
       "    </tr>\n",
       "    <tr>\n",
       "      <th>94</th>\n",
       "      <td>Ben Roethlisberger</td>\n",
       "      <td>QB</td>\n",
       "      <td>69</td>\n",
       "      <td>64</td>\n",
       "      <td>6</td>\n",
       "    </tr>\n",
       "    <tr>\n",
       "      <th>95</th>\n",
       "      <td>Carson Palmer</td>\n",
       "      <td>QB</td>\n",
       "      <td>78</td>\n",
       "      <td>64</td>\n",
       "      <td>6</td>\n",
       "    </tr>\n",
       "    <tr>\n",
       "      <th>100</th>\n",
       "      <td>Tom Brady</td>\n",
       "      <td>QB</td>\n",
       "      <td>79</td>\n",
       "      <td>64</td>\n",
       "      <td>6</td>\n",
       "    </tr>\n",
       "    <tr>\n",
       "      <th>110</th>\n",
       "      <td>Jameis Winston</td>\n",
       "      <td>QB</td>\n",
       "      <td>193</td>\n",
       "      <td>184</td>\n",
       "      <td>16</td>\n",
       "    </tr>\n",
       "  </tbody>\n",
       "</table>\n",
       "</div>"
      ],
      "text/plain": [
       "                 Player Pos  espn_rank  my_pick  round_target\n",
       "29           Cam Newton  QB         35       33             3\n",
       "104        Tyrod Taylor  QB        131      129            11\n",
       "106          Derek Carr  QB        134      129            11\n",
       "111        Kirk Cousins  QB        133      129            11\n",
       "115           Tony Romo  QB        132      129            11\n",
       "41        Aaron Rodgers  QB         49       40             4\n",
       "74           Drew Brees  QB         68       64             6\n",
       "67          Andrew Luck  QB         61       57             5\n",
       "47       Russell Wilson  QB         50       40             4\n",
       "96          Eli Manning  QB         88       88             8\n",
       "97        Philip Rivers  QB         90       88             8\n",
       "99        Blake Bortles  QB         89       88             8\n",
       "94   Ben Roethlisberger  QB         69       64             6\n",
       "95        Carson Palmer  QB         78       64             6\n",
       "100           Tom Brady  QB         79       64             6\n",
       "110      Jameis Winston  QB        193      184            16"
      ]
     },
     "execution_count": 75,
     "metadata": {},
     "output_type": "execute_result"
    }
   ],
   "source": [
    "df[(df['Pos'] == 'QB') & (df.index<120)].sort_values('pick_val_bs', ascending=False)[['Player', 'Pos', 'espn_rank', 'my_pick', 'round_target']]"
   ]
  },
  {
   "cell_type": "code",
   "execution_count": null,
   "metadata": {
    "collapsed": false
   },
   "outputs": [],
   "source": [
    "df = pd.read_csv(os.path.join(curr_dir, \"fantasy_rankings.csv\"))\n",
    "bonuses = pd.read_csv(os.path.join(curr_dir, \"bonuses.csv\"))\n",
    "espn = pd.read_csv(os.path.join(curr_dir, \"espn.csv\"))\n",
    "df = df[pd.notnull(df.Value)].iloc[:100]\n",
    "\n",
    "df['Fantasypros_value'] = df.apply(lambda x: get_fp_val(x, df.Value), axis=1)\n",
    "df['Position_rank'] = df.Position.apply(lambda x: int(x[2:]))\n",
    "df.Position = df.Position.apply(lambda x: x[:2])\n",
    "df['Bonus_adj'] = df.apply(lambda x: get_bonuses(x, bonuses), axis=1) + df.Fantasypros_value\n",
    "df = df.sort_values('Bonus_adj', ascending=False).reset_index(drop=True)\n",
    "espn['Name'] = espn['RANK, PLAYER'].apply(get_name)\n",
    "df['espn_rank'] = df['Fantasypros_name'].apply(lambda x: espn_rank(x, espn))"
   ]
  },
  {
   "cell_type": "code",
   "execution_count": null,
   "metadata": {
    "collapsed": true
   },
   "outputs": [],
   "source": [
    "def get_trade_values(df, picks):\n",
    "    picks = [p - 1 for p in picks]\n",
    "    return df.iloc[picks].Bonus_adj.mean()"
   ]
  },
  {
   "cell_type": "code",
   "execution_count": null,
   "metadata": {
    "collapsed": false
   },
   "outputs": [],
   "source": [
    "get_trade_values(df, [7, 18, 42,66, 90])"
   ]
  },
  {
   "cell_type": "code",
   "execution_count": null,
   "metadata": {
    "collapsed": false
   },
   "outputs": [],
   "source": [
    "get_trade_values(df, [9, 16, 40, 64, 88])\n",
    "get_trade_values(df, [9, 16, 40, 64, 88])"
   ]
  },
  {
   "cell_type": "code",
   "execution_count": null,
   "metadata": {
    "collapsed": true
   },
   "outputs": [],
   "source": [
    "df.to_csv('my_ranks.csv')"
   ]
  },
  {
   "cell_type": "code",
   "execution_count": null,
   "metadata": {
    "collapsed": false
   },
   "outputs": [],
   "source": [
    "df[['Fantasypros_name', 'Fantasypros_rank', 'espn_rank']].iloc[40:]"
   ]
  },
  {
   "cell_type": "code",
   "execution_count": null,
   "metadata": {
    "collapsed": false
   },
   "outputs": [],
   "source": [
    "df.iloc[50:]"
   ]
  },
  {
   "cell_type": "code",
   "execution_count": null,
   "metadata": {
    "collapsed": true
   },
   "outputs": [],
   "source": []
  }
 ],
 "metadata": {
  "kernelspec": {
   "display_name": "Python 2",
   "language": "python",
   "name": "python2"
  },
  "language_info": {
   "codemirror_mode": {
    "name": "ipython",
    "version": 2
   },
   "file_extension": ".py",
   "mimetype": "text/x-python",
   "name": "python",
   "nbconvert_exporter": "python",
   "pygments_lexer": "ipython2",
   "version": "2.7.10"
  }
 },
 "nbformat": 4,
 "nbformat_minor": 1
}
